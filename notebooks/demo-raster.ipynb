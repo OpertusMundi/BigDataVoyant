{
 "cells": [
  {
   "cell_type": "markdown",
   "metadata": {},
   "source": [
    "# Raster"
   ]
  },
  {
   "cell_type": "markdown",
   "metadata": {},
   "source": [
    "### Import the library"
   ]
  },
  {
   "cell_type": "code",
   "execution_count": 1,
   "metadata": {},
   "outputs": [],
   "source": [
    "from bigdatavoyant import RasterData"
   ]
  },
  {
   "cell_type": "markdown",
   "metadata": {},
   "source": [
    "### Download a geotiff"
   ]
  },
  {
   "cell_type": "code",
   "execution_count": 2,
   "metadata": {},
   "outputs": [
    {
     "data": {
      "text/plain": [
       "('data/sample_512.tif', <http.client.HTTPMessage at 0x7fc08a7e5130>)"
      ]
     },
     "execution_count": 2,
     "metadata": {},
     "output_type": "execute_result"
    }
   ],
   "source": [
    "import urllib.request\n",
    "url = 'http://even.rouault.free.fr/gtiff_test/S2A_MSIL1C_20170102T111442_N0204_R137_T30TXT_20170102T111441_TCI_cloudoptimized_512.tif'\n",
    "urllib.request.urlretrieve(url, 'data/sample_512.tif')"
   ]
  },
  {
   "cell_type": "markdown",
   "metadata": {},
   "source": [
    "### Import"
   ]
  },
  {
   "cell_type": "code",
   "execution_count": 3,
   "metadata": {},
   "outputs": [],
   "source": [
    "ds = RasterData.from_file('data/sample_512.tif')"
   ]
  },
  {
   "cell_type": "markdown",
   "metadata": {},
   "source": [
    "### Info"
   ]
  },
  {
   "cell_type": "code",
   "execution_count": 4,
   "metadata": {},
   "outputs": [
    {
     "data": {
      "text/plain": [
       "{'metadata': {'AREA_OR_POINT': 'Area',\n",
       "  'CLOUD_COVERAGE_ASSESSMENT': '91.8487',\n",
       "  'DATATAKE_1_DATATAKE_SENSING_START': '2017-01-02T11:14:42.026Z',\n",
       "  'DATATAKE_1_DATATAKE_TYPE': 'INS-NOBS',\n",
       "  'DATATAKE_1_ID': 'GS2A_20170102T111442_007999_N02.04',\n",
       "  'DATATAKE_1_SENSING_ORBIT_DIRECTION': 'DESCENDING',\n",
       "  'DATATAKE_1_SENSING_ORBIT_NUMBER': '137',\n",
       "  'DATATAKE_1_SPACECRAFT_NAME': 'Sentinel-2A',\n",
       "  'DEGRADED_ANC_DATA_PERCENTAGE': '0',\n",
       "  'DEGRADED_MSI_DATA_PERCENTAGE': '0',\n",
       "  'FORMAT_CORRECTNESS_FLAG': 'PASSED',\n",
       "  'GENERAL_QUALITY_FLAG': 'PASSED',\n",
       "  'GENERATION_TIME': '2017-01-02T11:14:41.000000Z',\n",
       "  'GEOMETRIC_QUALITY_FLAG': 'PASSED',\n",
       "  'PREVIEW_GEO_INFO': 'Not applicable',\n",
       "  'PREVIEW_IMAGE_URL': 'Not applicable',\n",
       "  'PROCESSING_BASELINE': '02.04',\n",
       "  'PROCESSING_LEVEL': 'Level-1C',\n",
       "  'PRODUCT_START_TIME': '2017-01-02T11:14:42.026Z',\n",
       "  'PRODUCT_STOP_TIME': '2017-01-02T11:14:42.026Z',\n",
       "  'PRODUCT_TYPE': 'S2MSI1C',\n",
       "  'PRODUCT_URI': 'S2A_MSIL1C_20170102T111442_N0204_R137_T30TXT_20170102T111441.SAFE',\n",
       "  'QUANTIFICATION_VALUE': '10000',\n",
       "  'RADIOMETRIC_QUALITY_FLAG': 'PASSED',\n",
       "  'REFERENCE_BAND': 'B1',\n",
       "  'REFLECTANCE_CONVERSION_U': '1.0342256976023',\n",
       "  'SENSOR_QUALITY_FLAG': 'PASSED',\n",
       "  'SPECIAL_VALUE_NODATA': '0',\n",
       "  'SPECIAL_VALUE_SATURATED': '65535'},\n",
       " 'image_structure': {'COMPRESSION': 'YCbCr JPEG',\n",
       "  'INTERLEAVE': 'PIXEL',\n",
       "  'SOURCE_COLOR_SPACE': 'YCbCr'},\n",
       " 'driver': 'GeoTIFF',\n",
       " 'files': ['sample_512.tif'],\n",
       " 'width': 10980,\n",
       " 'height': 10980,\n",
       " 'bands': ['Red', 'Green', 'Blue']}"
      ]
     },
     "execution_count": 4,
     "metadata": {},
     "output_type": "execute_result"
    }
   ],
   "source": [
    "ds.info()"
   ]
  },
  {
   "cell_type": "markdown",
   "metadata": {},
   "source": [
    "### R-1 Band Statistics"
   ]
  },
  {
   "cell_type": "code",
   "execution_count": 5,
   "metadata": {},
   "outputs": [
    {
     "data": {
      "text/plain": [
       "[{'min': 0.0,\n",
       "  'max': 255.0,\n",
       "  'mean': 176.65869939051296,\n",
       "  'std': 110.44855115986601},\n",
       " {'min': 0.0,\n",
       "  'max': 255.0,\n",
       "  'mean': 176.65869939051296,\n",
       "  'std': 110.44855115986601},\n",
       " {'min': 0.0,\n",
       "  'max': 255.0,\n",
       "  'mean': 176.65869939051296,\n",
       "  'std': 110.44855115986601}]"
      ]
     },
     "execution_count": 5,
     "metadata": {},
     "output_type": "execute_result"
    }
   ],
   "source": [
    "ds.statistics()"
   ]
  },
  {
   "cell_type": "markdown",
   "metadata": {},
   "source": [
    "### R-2 Default Histogram"
   ]
  },
  {
   "cell_type": "code",
   "execution_count": 6,
   "metadata": {},
   "outputs": [
    {
     "data": {
      "text/plain": [
       "[(-0.5,\n",
       "  255.5,\n",
       "  256,\n",
       "  [31547094,\n",
       "   5375,\n",
       "   3836,\n",
       "   2725,\n",
       "   2504,\n",
       "   1112,\n",
       "   1012,\n",
       "   830,\n",
       "   678,\n",
       "   699,\n",
       "   461,\n",
       "   498,\n",
       "   516,\n",
       "   274,\n",
       "   296,\n",
       "   238,\n",
       "   209,\n",
       "   182,\n",
       "   123,\n",
       "   96,\n",
       "   49,\n",
       "   71,\n",
       "   62,\n",
       "   22,\n",
       "   48,\n",
       "   15,\n",
       "   13,\n",
       "   6,\n",
       "   3,\n",
       "   10,\n",
       "   28,\n",
       "   9,\n",
       "   18,\n",
       "   4,\n",
       "   1,\n",
       "   1,\n",
       "   17,\n",
       "   10,\n",
       "   0,\n",
       "   6,\n",
       "   0,\n",
       "   0,\n",
       "   0,\n",
       "   0,\n",
       "   0,\n",
       "   0,\n",
       "   0,\n",
       "   0,\n",
       "   0,\n",
       "   0,\n",
       "   0,\n",
       "   0,\n",
       "   0,\n",
       "   0,\n",
       "   0,\n",
       "   0,\n",
       "   0,\n",
       "   0,\n",
       "   0,\n",
       "   0,\n",
       "   0,\n",
       "   3,\n",
       "   21,\n",
       "   24,\n",
       "   31,\n",
       "   75,\n",
       "   131,\n",
       "   256,\n",
       "   448,\n",
       "   840,\n",
       "   1108,\n",
       "   1432,\n",
       "   1968,\n",
       "   2961,\n",
       "   4330,\n",
       "   5673,\n",
       "   7372,\n",
       "   9363,\n",
       "   11135,\n",
       "   14008,\n",
       "   16741,\n",
       "   19671,\n",
       "   23003,\n",
       "   26571,\n",
       "   30089,\n",
       "   35286,\n",
       "   40530,\n",
       "   47455,\n",
       "   53534,\n",
       "   60178,\n",
       "   66040,\n",
       "   72579,\n",
       "   77171,\n",
       "   82966,\n",
       "   88279,\n",
       "   91867,\n",
       "   94980,\n",
       "   98341,\n",
       "   100483,\n",
       "   101570,\n",
       "   102216,\n",
       "   101825,\n",
       "   102041,\n",
       "   104225,\n",
       "   105921,\n",
       "   109220,\n",
       "   110254,\n",
       "   111473,\n",
       "   110226,\n",
       "   109479,\n",
       "   108091,\n",
       "   106697,\n",
       "   104894,\n",
       "   103096,\n",
       "   101838,\n",
       "   100938,\n",
       "   99236,\n",
       "   99014,\n",
       "   99507,\n",
       "   100163,\n",
       "   99821,\n",
       "   99539,\n",
       "   98768,\n",
       "   98701,\n",
       "   97329,\n",
       "   97231,\n",
       "   97573,\n",
       "   98644,\n",
       "   98759,\n",
       "   100211,\n",
       "   99419,\n",
       "   99997,\n",
       "   99886,\n",
       "   100493,\n",
       "   101760,\n",
       "   102589,\n",
       "   103425,\n",
       "   101738,\n",
       "   100578,\n",
       "   100489,\n",
       "   100685,\n",
       "   101994,\n",
       "   102539,\n",
       "   101313,\n",
       "   100963,\n",
       "   98947,\n",
       "   98027,\n",
       "   96761,\n",
       "   94646,\n",
       "   95333,\n",
       "   93877,\n",
       "   92162,\n",
       "   91734,\n",
       "   90747,\n",
       "   90262,\n",
       "   88412,\n",
       "   87554,\n",
       "   86892,\n",
       "   85902,\n",
       "   84917,\n",
       "   84613,\n",
       "   84572,\n",
       "   84581,\n",
       "   85535,\n",
       "   85489,\n",
       "   85910,\n",
       "   87140,\n",
       "   87622,\n",
       "   87942,\n",
       "   87562,\n",
       "   88399,\n",
       "   88466,\n",
       "   88822,\n",
       "   89695,\n",
       "   89414,\n",
       "   90667,\n",
       "   90442,\n",
       "   89823,\n",
       "   89037,\n",
       "   89671,\n",
       "   89474,\n",
       "   89109,\n",
       "   89533,\n",
       "   89202,\n",
       "   89887,\n",
       "   89579,\n",
       "   89072,\n",
       "   88985,\n",
       "   89610,\n",
       "   89014,\n",
       "   90483,\n",
       "   90113,\n",
       "   90493,\n",
       "   90077,\n",
       "   89853,\n",
       "   88972,\n",
       "   89235,\n",
       "   89145,\n",
       "   89079,\n",
       "   90000,\n",
       "   90701,\n",
       "   90847,\n",
       "   91000,\n",
       "   92137,\n",
       "   92986,\n",
       "   94257,\n",
       "   94519,\n",
       "   95857,\n",
       "   96434,\n",
       "   96756,\n",
       "   97800,\n",
       "   99048,\n",
       "   99989,\n",
       "   100754,\n",
       "   102061,\n",
       "   101910,\n",
       "   103252,\n",
       "   102385,\n",
       "   103770,\n",
       "   105230,\n",
       "   105582,\n",
       "   105362,\n",
       "   106325,\n",
       "   107480,\n",
       "   109199,\n",
       "   109969,\n",
       "   111315,\n",
       "   111862,\n",
       "   113090,\n",
       "   113981,\n",
       "   116272,\n",
       "   117341,\n",
       "   118207,\n",
       "   119574,\n",
       "   121128,\n",
       "   122997,\n",
       "   124359,\n",
       "   125630,\n",
       "   127135,\n",
       "   127560,\n",
       "   128867,\n",
       "   129429,\n",
       "   128821,\n",
       "   129274,\n",
       "   130191,\n",
       "   130595,\n",
       "   131370,\n",
       "   131982,\n",
       "   133227,\n",
       "   134589,\n",
       "   140114,\n",
       "   148500,\n",
       "   166335,\n",
       "   220159,\n",
       "   345836,\n",
       "   71590098]),\n",
       " (-0.5,\n",
       "  255.5,\n",
       "  256,\n",
       "  [31547094,\n",
       "   5375,\n",
       "   3836,\n",
       "   2725,\n",
       "   2504,\n",
       "   1112,\n",
       "   1012,\n",
       "   830,\n",
       "   678,\n",
       "   699,\n",
       "   461,\n",
       "   498,\n",
       "   516,\n",
       "   274,\n",
       "   296,\n",
       "   238,\n",
       "   209,\n",
       "   182,\n",
       "   123,\n",
       "   96,\n",
       "   49,\n",
       "   71,\n",
       "   62,\n",
       "   22,\n",
       "   48,\n",
       "   15,\n",
       "   13,\n",
       "   6,\n",
       "   3,\n",
       "   10,\n",
       "   28,\n",
       "   9,\n",
       "   18,\n",
       "   4,\n",
       "   1,\n",
       "   1,\n",
       "   17,\n",
       "   10,\n",
       "   0,\n",
       "   6,\n",
       "   0,\n",
       "   0,\n",
       "   0,\n",
       "   0,\n",
       "   0,\n",
       "   0,\n",
       "   0,\n",
       "   0,\n",
       "   0,\n",
       "   0,\n",
       "   0,\n",
       "   0,\n",
       "   0,\n",
       "   0,\n",
       "   0,\n",
       "   0,\n",
       "   0,\n",
       "   0,\n",
       "   0,\n",
       "   0,\n",
       "   0,\n",
       "   3,\n",
       "   21,\n",
       "   24,\n",
       "   31,\n",
       "   75,\n",
       "   131,\n",
       "   256,\n",
       "   448,\n",
       "   840,\n",
       "   1108,\n",
       "   1432,\n",
       "   1968,\n",
       "   2961,\n",
       "   4330,\n",
       "   5673,\n",
       "   7372,\n",
       "   9363,\n",
       "   11135,\n",
       "   14008,\n",
       "   16741,\n",
       "   19671,\n",
       "   23003,\n",
       "   26571,\n",
       "   30089,\n",
       "   35286,\n",
       "   40530,\n",
       "   47455,\n",
       "   53534,\n",
       "   60178,\n",
       "   66040,\n",
       "   72579,\n",
       "   77171,\n",
       "   82966,\n",
       "   88279,\n",
       "   91867,\n",
       "   94980,\n",
       "   98341,\n",
       "   100483,\n",
       "   101570,\n",
       "   102216,\n",
       "   101825,\n",
       "   102041,\n",
       "   104225,\n",
       "   105921,\n",
       "   109220,\n",
       "   110254,\n",
       "   111473,\n",
       "   110226,\n",
       "   109479,\n",
       "   108091,\n",
       "   106697,\n",
       "   104894,\n",
       "   103096,\n",
       "   101838,\n",
       "   100938,\n",
       "   99236,\n",
       "   99014,\n",
       "   99507,\n",
       "   100163,\n",
       "   99821,\n",
       "   99539,\n",
       "   98768,\n",
       "   98701,\n",
       "   97329,\n",
       "   97231,\n",
       "   97573,\n",
       "   98644,\n",
       "   98759,\n",
       "   100211,\n",
       "   99419,\n",
       "   99997,\n",
       "   99886,\n",
       "   100493,\n",
       "   101760,\n",
       "   102589,\n",
       "   103425,\n",
       "   101738,\n",
       "   100578,\n",
       "   100489,\n",
       "   100685,\n",
       "   101994,\n",
       "   102539,\n",
       "   101313,\n",
       "   100963,\n",
       "   98947,\n",
       "   98027,\n",
       "   96761,\n",
       "   94646,\n",
       "   95333,\n",
       "   93877,\n",
       "   92162,\n",
       "   91734,\n",
       "   90747,\n",
       "   90262,\n",
       "   88412,\n",
       "   87554,\n",
       "   86892,\n",
       "   85902,\n",
       "   84917,\n",
       "   84613,\n",
       "   84572,\n",
       "   84581,\n",
       "   85535,\n",
       "   85489,\n",
       "   85910,\n",
       "   87140,\n",
       "   87622,\n",
       "   87942,\n",
       "   87562,\n",
       "   88399,\n",
       "   88466,\n",
       "   88822,\n",
       "   89695,\n",
       "   89414,\n",
       "   90667,\n",
       "   90442,\n",
       "   89823,\n",
       "   89037,\n",
       "   89671,\n",
       "   89474,\n",
       "   89109,\n",
       "   89533,\n",
       "   89202,\n",
       "   89887,\n",
       "   89579,\n",
       "   89072,\n",
       "   88985,\n",
       "   89610,\n",
       "   89014,\n",
       "   90483,\n",
       "   90113,\n",
       "   90493,\n",
       "   90077,\n",
       "   89853,\n",
       "   88972,\n",
       "   89235,\n",
       "   89145,\n",
       "   89079,\n",
       "   90000,\n",
       "   90701,\n",
       "   90847,\n",
       "   91000,\n",
       "   92137,\n",
       "   92986,\n",
       "   94257,\n",
       "   94519,\n",
       "   95857,\n",
       "   96434,\n",
       "   96756,\n",
       "   97800,\n",
       "   99048,\n",
       "   99989,\n",
       "   100754,\n",
       "   102061,\n",
       "   101910,\n",
       "   103252,\n",
       "   102385,\n",
       "   103770,\n",
       "   105230,\n",
       "   105582,\n",
       "   105362,\n",
       "   106325,\n",
       "   107480,\n",
       "   109199,\n",
       "   109969,\n",
       "   111315,\n",
       "   111862,\n",
       "   113090,\n",
       "   113981,\n",
       "   116272,\n",
       "   117341,\n",
       "   118207,\n",
       "   119574,\n",
       "   121128,\n",
       "   122997,\n",
       "   124359,\n",
       "   125630,\n",
       "   127135,\n",
       "   127560,\n",
       "   128867,\n",
       "   129429,\n",
       "   128821,\n",
       "   129274,\n",
       "   130191,\n",
       "   130595,\n",
       "   131370,\n",
       "   131982,\n",
       "   133227,\n",
       "   134589,\n",
       "   140114,\n",
       "   148500,\n",
       "   166335,\n",
       "   220159,\n",
       "   345836,\n",
       "   71590098]),\n",
       " (-0.5,\n",
       "  255.5,\n",
       "  256,\n",
       "  [31547094,\n",
       "   5375,\n",
       "   3836,\n",
       "   2725,\n",
       "   2504,\n",
       "   1112,\n",
       "   1012,\n",
       "   830,\n",
       "   678,\n",
       "   699,\n",
       "   461,\n",
       "   498,\n",
       "   516,\n",
       "   274,\n",
       "   296,\n",
       "   238,\n",
       "   209,\n",
       "   182,\n",
       "   123,\n",
       "   96,\n",
       "   49,\n",
       "   71,\n",
       "   62,\n",
       "   22,\n",
       "   48,\n",
       "   15,\n",
       "   13,\n",
       "   6,\n",
       "   3,\n",
       "   10,\n",
       "   28,\n",
       "   9,\n",
       "   18,\n",
       "   4,\n",
       "   1,\n",
       "   1,\n",
       "   17,\n",
       "   10,\n",
       "   0,\n",
       "   6,\n",
       "   0,\n",
       "   0,\n",
       "   0,\n",
       "   0,\n",
       "   0,\n",
       "   0,\n",
       "   0,\n",
       "   0,\n",
       "   0,\n",
       "   0,\n",
       "   0,\n",
       "   0,\n",
       "   0,\n",
       "   0,\n",
       "   0,\n",
       "   0,\n",
       "   0,\n",
       "   0,\n",
       "   0,\n",
       "   0,\n",
       "   0,\n",
       "   3,\n",
       "   21,\n",
       "   24,\n",
       "   31,\n",
       "   75,\n",
       "   131,\n",
       "   256,\n",
       "   448,\n",
       "   840,\n",
       "   1108,\n",
       "   1432,\n",
       "   1968,\n",
       "   2961,\n",
       "   4330,\n",
       "   5673,\n",
       "   7372,\n",
       "   9363,\n",
       "   11135,\n",
       "   14008,\n",
       "   16741,\n",
       "   19671,\n",
       "   23003,\n",
       "   26571,\n",
       "   30089,\n",
       "   35286,\n",
       "   40530,\n",
       "   47455,\n",
       "   53534,\n",
       "   60178,\n",
       "   66040,\n",
       "   72579,\n",
       "   77171,\n",
       "   82966,\n",
       "   88279,\n",
       "   91867,\n",
       "   94980,\n",
       "   98341,\n",
       "   100483,\n",
       "   101570,\n",
       "   102216,\n",
       "   101825,\n",
       "   102041,\n",
       "   104225,\n",
       "   105921,\n",
       "   109220,\n",
       "   110254,\n",
       "   111473,\n",
       "   110226,\n",
       "   109479,\n",
       "   108091,\n",
       "   106697,\n",
       "   104894,\n",
       "   103096,\n",
       "   101838,\n",
       "   100938,\n",
       "   99236,\n",
       "   99014,\n",
       "   99507,\n",
       "   100163,\n",
       "   99821,\n",
       "   99539,\n",
       "   98768,\n",
       "   98701,\n",
       "   97329,\n",
       "   97231,\n",
       "   97573,\n",
       "   98644,\n",
       "   98759,\n",
       "   100211,\n",
       "   99419,\n",
       "   99997,\n",
       "   99886,\n",
       "   100493,\n",
       "   101760,\n",
       "   102589,\n",
       "   103425,\n",
       "   101738,\n",
       "   100578,\n",
       "   100489,\n",
       "   100685,\n",
       "   101994,\n",
       "   102539,\n",
       "   101313,\n",
       "   100963,\n",
       "   98947,\n",
       "   98027,\n",
       "   96761,\n",
       "   94646,\n",
       "   95333,\n",
       "   93877,\n",
       "   92162,\n",
       "   91734,\n",
       "   90747,\n",
       "   90262,\n",
       "   88412,\n",
       "   87554,\n",
       "   86892,\n",
       "   85902,\n",
       "   84917,\n",
       "   84613,\n",
       "   84572,\n",
       "   84581,\n",
       "   85535,\n",
       "   85489,\n",
       "   85910,\n",
       "   87140,\n",
       "   87622,\n",
       "   87942,\n",
       "   87562,\n",
       "   88399,\n",
       "   88466,\n",
       "   88822,\n",
       "   89695,\n",
       "   89414,\n",
       "   90667,\n",
       "   90442,\n",
       "   89823,\n",
       "   89037,\n",
       "   89671,\n",
       "   89474,\n",
       "   89109,\n",
       "   89533,\n",
       "   89202,\n",
       "   89887,\n",
       "   89579,\n",
       "   89072,\n",
       "   88985,\n",
       "   89610,\n",
       "   89014,\n",
       "   90483,\n",
       "   90113,\n",
       "   90493,\n",
       "   90077,\n",
       "   89853,\n",
       "   88972,\n",
       "   89235,\n",
       "   89145,\n",
       "   89079,\n",
       "   90000,\n",
       "   90701,\n",
       "   90847,\n",
       "   91000,\n",
       "   92137,\n",
       "   92986,\n",
       "   94257,\n",
       "   94519,\n",
       "   95857,\n",
       "   96434,\n",
       "   96756,\n",
       "   97800,\n",
       "   99048,\n",
       "   99989,\n",
       "   100754,\n",
       "   102061,\n",
       "   101910,\n",
       "   103252,\n",
       "   102385,\n",
       "   103770,\n",
       "   105230,\n",
       "   105582,\n",
       "   105362,\n",
       "   106325,\n",
       "   107480,\n",
       "   109199,\n",
       "   109969,\n",
       "   111315,\n",
       "   111862,\n",
       "   113090,\n",
       "   113981,\n",
       "   116272,\n",
       "   117341,\n",
       "   118207,\n",
       "   119574,\n",
       "   121128,\n",
       "   122997,\n",
       "   124359,\n",
       "   125630,\n",
       "   127135,\n",
       "   127560,\n",
       "   128867,\n",
       "   129429,\n",
       "   128821,\n",
       "   129274,\n",
       "   130191,\n",
       "   130595,\n",
       "   131370,\n",
       "   131982,\n",
       "   133227,\n",
       "   134589,\n",
       "   140114,\n",
       "   148500,\n",
       "   166335,\n",
       "   220159,\n",
       "   345836,\n",
       "   71590098])]"
      ]
     },
     "execution_count": 6,
     "metadata": {},
     "output_type": "execute_result"
    }
   ],
   "source": [
    "ds.defaultHistogram()"
   ]
  },
  {
   "cell_type": "markdown",
   "metadata": {},
   "source": [
    "### R-3 Spatial extent"
   ]
  },
  {
   "cell_type": "code",
   "execution_count": 7,
   "metadata": {},
   "outputs": [
    {
     "data": {
      "text/plain": [
       "'POLYGON ((600000 5300040, 709800 5300040, 709800 5190240, 600000 5190240, 600000 5300040))'"
      ]
     },
     "execution_count": 7,
     "metadata": {},
     "output_type": "execute_result"
    }
   ],
   "source": [
    "ds.mbr().wkt"
   ]
  },
  {
   "cell_type": "markdown",
   "metadata": {},
   "source": [
    "### R-4 Resolution per axis"
   ]
  },
  {
   "cell_type": "code",
   "execution_count": 8,
   "metadata": {},
   "outputs": [
    {
     "data": {
      "text/plain": [
       "{'x': 10.0, 'y': -10.0, 'unit': 'metre'}"
      ]
     },
     "execution_count": 8,
     "metadata": {},
     "output_type": "execute_result"
    }
   ],
   "source": [
    "ds.resolution()"
   ]
  },
  {
   "cell_type": "markdown",
   "metadata": {},
   "source": [
    "### R-5 Width"
   ]
  },
  {
   "cell_type": "code",
   "execution_count": 9,
   "metadata": {},
   "outputs": [
    {
     "data": {
      "text/plain": [
       "10980"
      ]
     },
     "execution_count": 9,
     "metadata": {},
     "output_type": "execute_result"
    }
   ],
   "source": [
    "ds.width"
   ]
  },
  {
   "cell_type": "markdown",
   "metadata": {},
   "source": [
    "### R-6 Height"
   ]
  },
  {
   "cell_type": "code",
   "execution_count": 10,
   "metadata": {},
   "outputs": [
    {
     "data": {
      "text/plain": [
       "10980"
      ]
     },
     "execution_count": 10,
     "metadata": {},
     "output_type": "execute_result"
    }
   ],
   "source": [
    "ds.height"
   ]
  },
  {
   "cell_type": "markdown",
   "metadata": {},
   "source": [
    "### R-7 COG"
   ]
  },
  {
   "cell_type": "code",
   "execution_count": 11,
   "metadata": {},
   "outputs": [
    {
     "data": {
      "text/plain": [
       "True"
      ]
     },
     "execution_count": 11,
     "metadata": {},
     "output_type": "execute_result"
    }
   ],
   "source": [
    "ds.is_cog()"
   ]
  },
  {
   "cell_type": "markdown",
   "metadata": {},
   "source": [
    "### R-8 Sample\n",
    "<span style=\"color:red\">TODO?</span>"
   ]
  },
  {
   "cell_type": "markdown",
   "metadata": {},
   "source": [
    "### R-9 Number of bands"
   ]
  },
  {
   "cell_type": "code",
   "execution_count": 12,
   "metadata": {},
   "outputs": [
    {
     "data": {
      "text/plain": [
       "3"
      ]
     },
     "execution_count": 12,
     "metadata": {},
     "output_type": "execute_result"
    }
   ],
   "source": [
    "ds.count"
   ]
  },
  {
   "cell_type": "markdown",
   "metadata": {},
   "source": [
    "### R-12 Temporal period\n",
    "<span style=\"color:red\">Only for vector (netCDF)?</span>"
   ]
  },
  {
   "cell_type": "markdown",
   "metadata": {},
   "source": [
    "### R-13 Data type / depth"
   ]
  },
  {
   "cell_type": "code",
   "execution_count": 13,
   "metadata": {},
   "outputs": [
    {
     "data": {
      "text/plain": [
       "['Byte', 'Byte', 'Byte']"
      ]
     },
     "execution_count": 13,
     "metadata": {},
     "output_type": "execute_result"
    }
   ],
   "source": [
    "ds.datatypes()"
   ]
  },
  {
   "cell_type": "markdown",
   "metadata": {},
   "source": [
    "### R-14 Number of variables\n",
    "<span style=\"color:red\">Only for vector (netCDF)?</span>"
   ]
  },
  {
   "cell_type": "markdown",
   "metadata": {},
   "source": [
    "### R-15 Names of variables\n",
    "<span style=\"color:red\">Only for vector (netCDF)?</span>"
   ]
  },
  {
   "cell_type": "markdown",
   "metadata": {},
   "source": [
    "### R-16 No Data Values"
   ]
  },
  {
   "cell_type": "code",
   "execution_count": 14,
   "metadata": {},
   "outputs": [
    {
     "data": {
      "text/plain": [
       "[None, None, None]"
      ]
     },
     "execution_count": 14,
     "metadata": {},
     "output_type": "execute_result"
    }
   ],
   "source": [
    "ds.noDataValue()"
   ]
  },
  {
   "cell_type": "markdown",
   "metadata": {},
   "source": [
    "### R-17 Native CRS"
   ]
  },
  {
   "cell_type": "code",
   "execution_count": 15,
   "metadata": {},
   "outputs": [
    {
     "name": "stdout",
     "output_type": "stream",
     "text": [
      "PROJCS[\"WGS 84 / UTM zone 30N\",\n",
      "    GEOGCS[\"WGS 84\",\n",
      "        DATUM[\"WGS_1984\",\n",
      "            SPHEROID[\"WGS 84\",6378137,298.257223563,\n",
      "                AUTHORITY[\"EPSG\",\"7030\"]],\n",
      "            AUTHORITY[\"EPSG\",\"6326\"]],\n",
      "        PRIMEM[\"Greenwich\",0,\n",
      "            AUTHORITY[\"EPSG\",\"8901\"]],\n",
      "        UNIT[\"degree\",0.0174532925199433,\n",
      "            AUTHORITY[\"EPSG\",\"9122\"]],\n",
      "        AUTHORITY[\"EPSG\",\"4326\"]],\n",
      "    PROJECTION[\"Transverse_Mercator\"],\n",
      "    PARAMETER[\"latitude_of_origin\",0],\n",
      "    PARAMETER[\"central_meridian\",-3],\n",
      "    PARAMETER[\"scale_factor\",0.9996],\n",
      "    PARAMETER[\"false_easting\",500000],\n",
      "    PARAMETER[\"false_northing\",0],\n",
      "    UNIT[\"metre\",1,\n",
      "        AUTHORITY[\"EPSG\",\"9001\"]],\n",
      "    AXIS[\"Easting\",EAST],\n",
      "    AXIS[\"Northing\",NORTH],\n",
      "    AUTHORITY[\"EPSG\",\"32630\"]]\n"
     ]
    }
   ],
   "source": [
    "print(ds.crs)"
   ]
  },
  {
   "cell_type": "code",
   "execution_count": 16,
   "metadata": {},
   "outputs": [
    {
     "data": {
      "text/plain": [
       "'EPSG:32630'"
      ]
     },
     "execution_count": 16,
     "metadata": {},
     "output_type": "execute_result"
    }
   ],
   "source": [
    "ds.short_crs"
   ]
  },
  {
   "cell_type": "markdown",
   "metadata": {},
   "source": [
    "### Report"
   ]
  },
  {
   "cell_type": "code",
   "execution_count": 17,
   "metadata": {},
   "outputs": [
    {
     "name": "stdout",
     "output_type": "stream",
     "text": [
      "Wrote file report.json, 13833 bytes.\n"
     ]
    }
   ],
   "source": [
    "report = ds.report()\n",
    "report.to_file('report.json')"
   ]
  }
 ],
 "metadata": {
  "kernelspec": {
   "display_name": "Python 3",
   "language": "python",
   "name": "python3"
  },
  "language_info": {
   "codemirror_mode": {
    "name": "ipython",
    "version": 3
   },
   "file_extension": ".py",
   "mimetype": "text/x-python",
   "name": "python",
   "nbconvert_exporter": "python",
   "pygments_lexer": "ipython3",
   "version": "3.8.2"
  }
 },
 "nbformat": 4,
 "nbformat_minor": 4
}
